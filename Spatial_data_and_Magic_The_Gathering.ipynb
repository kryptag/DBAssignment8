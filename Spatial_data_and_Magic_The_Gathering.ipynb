{
 "cells": [
  {
   "cell_type": "code",
   "execution_count": 1,
   "metadata": {},
   "outputs": [
    {
     "data": {
      "text/plain": [
       "'Connected: appdev@appdev'"
      ]
     },
     "execution_count": 1,
     "metadata": {},
     "output_type": "execute_result"
    }
   ],
   "source": [
    "%reload_ext sql\n",
    "\n",
    "%sql postgresql://appdev@data/appdev"
   ]
  },
  {
   "cell_type": "code",
   "execution_count": 14,
   "metadata": {},
   "outputs": [
    {
     "name": "stdout",
     "output_type": "stream",
     "text": [
      "1 rows affected.\n"
     ]
    },
    {
     "data": {
      "text/html": [
       "<table>\n",
       "    <tr>\n",
       "        <th>geonameid</th>\n",
       "        <th>name</th>\n",
       "        <th>longitude</th>\n",
       "        <th>latitude</th>\n",
       "        <th>feature_class</th>\n",
       "        <th>feature_code</th>\n",
       "        <th>country_code</th>\n",
       "        <th>admin1_code</th>\n",
       "        <th>admin2_code</th>\n",
       "        <th>population</th>\n",
       "        <th>elevation</th>\n",
       "        <th>timezone</th>\n",
       "    </tr>\n",
       "    <tr>\n",
       "        <td>305104</td>\n",
       "        <td>Levant</td>\n",
       "        <td>36.0</td>\n",
       "        <td>34.0</td>\n",
       "        <td>L</td>\n",
       "        <td>RGN</td>\n",
       "        <td>None</td>\n",
       "        <td>None</td>\n",
       "        <td>None</td>\n",
       "        <td>44990000</td>\n",
       "        <td>None</td>\n",
       "        <td>Asia/Beirut</td>\n",
       "    </tr>\n",
       "</table>"
      ],
      "text/plain": [
       "[(305104, 'Levant', 36.0, 34.0, 'L', 'RGN', None, None, None, 44990000, None, 'Asia/Beirut')]"
      ]
     },
     "execution_count": 14,
     "metadata": {},
     "output_type": "execute_result"
    }
   ],
   "source": [
    "%sql SELECT * FROM GEONAMES ORDER BY population DESC LIMIT 1;"
   ]
  },
  {
   "cell_type": "code",
   "execution_count": 19,
   "metadata": {},
   "outputs": [
    {
     "name": "stdout",
     "output_type": "stream",
     "text": [
      "10 rows affected.\n"
     ]
    },
    {
     "data": {
      "text/html": [
       "<table>\n",
       "    <tr>\n",
       "        <th>geonameid</th>\n",
       "        <th>name</th>\n",
       "        <th>?column?</th>\n",
       "    </tr>\n",
       "    <tr>\n",
       "        <td>3038871</td>\n",
       "        <td>Obac de la Vall</td>\n",
       "        <td>35.5187260391022</td>\n",
       "    </tr>\n",
       "    <tr>\n",
       "        <td>3038956</td>\n",
       "        <td>Canal del Teixó</td>\n",
       "        <td>35.5403912827645</td>\n",
       "    </tr>\n",
       "    <tr>\n",
       "        <td>3038989</td>\n",
       "        <td>Solana del Soriguer</td>\n",
       "        <td>35.4976906065648</td>\n",
       "    </tr>\n",
       "    <tr>\n",
       "        <td>3039152</td>\n",
       "        <td>Bosc de Sant Romà</td>\n",
       "        <td>35.5211340049413</td>\n",
       "    </tr>\n",
       "    <tr>\n",
       "        <td>3039170</td>\n",
       "        <td>Sant Esteve</td>\n",
       "        <td>35.5230848613757</td>\n",
       "    </tr>\n",
       "    <tr>\n",
       "        <td>3039210</td>\n",
       "        <td>Canal de Rudielles</td>\n",
       "        <td>35.5756544866359</td>\n",
       "    </tr>\n",
       "    <tr>\n",
       "        <td>3039242</td>\n",
       "        <td>Estany Rodó</td>\n",
       "        <td>35.3803392045427</td>\n",
       "    </tr>\n",
       "    <tr>\n",
       "        <td>3039281</td>\n",
       "        <td>Torrent de Ribassols</td>\n",
       "        <td>35.5686877257961</td>\n",
       "    </tr>\n",
       "    <tr>\n",
       "        <td>3039497</td>\n",
       "        <td>Serra Plana</td>\n",
       "        <td>35.4524960679527</td>\n",
       "    </tr>\n",
       "    <tr>\n",
       "        <td>3039501</td>\n",
       "        <td>Coll de la Plana</td>\n",
       "        <td>35.5086914894509</td>\n",
       "    </tr>\n",
       "</table>"
      ],
      "text/plain": [
       "[(3038871, 'Obac de la Vall', 35.5187260391022),\n",
       " (3038956, 'Canal del Teixó', 35.5403912827645),\n",
       " (3038989, 'Solana del Soriguer', 35.4976906065648),\n",
       " (3039152, 'Bosc de Sant Romà', 35.5211340049413),\n",
       " (3039170, 'Sant Esteve', 35.5230848613757),\n",
       " (3039210, 'Canal de Rudielles', 35.5756544866359),\n",
       " (3039242, 'Estany Rodó', 35.3803392045427),\n",
       " (3039281, 'Torrent de Ribassols', 35.5686877257961),\n",
       " (3039497, 'Serra Plana', 35.4524960679527),\n",
       " (3039501, 'Coll de la Plana', 35.5086914894509)]"
      ]
     },
     "execution_count": 19,
     "metadata": {},
     "output_type": "execute_result"
    }
   ],
   "source": [
    "%sql SELECT geonameid, name ,point(longitude, latitude) <-> point('36.0', '34.0') FROM GEONAMES LIMIT 10;"
   ]
  },
  {
   "cell_type": "code",
   "execution_count": 22,
   "metadata": {},
   "outputs": [
    {
     "name": "stdout",
     "output_type": "stream",
     "text": [
      "Done.\n"
     ]
    },
    {
     "data": {
      "text/plain": [
       "[]"
      ]
     },
     "execution_count": 22,
     "metadata": {},
     "output_type": "execute_result"
    }
   ],
   "source": [
    "%%sql CREATE OR REPLACE FUNCTION public.geodistance(alat double precision, alng double precision, blat double precision, blng double precision)\n",
    "  RETURNS double precision AS\n",
    "$BODY$\n",
    "SELECT asin(\n",
    "  sqrt(\n",
    "    sin(radians($3-$1)/2)^2 +\n",
    "    sin(radians($4-$2)/2)^2 *\n",
    "    cos(radians($1)) *\n",
    "    cos(radians($3))\n",
    "  )\n",
    ") * 7926.3352 AS distance;\n",
    "$BODY$\n",
    "  LANGUAGE sql IMMUTABLE\n",
    "  COST 100;"
   ]
  },
  {
   "cell_type": "code",
   "execution_count": 25,
   "metadata": {},
   "outputs": [
    {
     "name": "stdout",
     "output_type": "stream",
     "text": [
      "50 rows affected.\n"
     ]
    },
    {
     "data": {
      "text/html": [
       "<table>\n",
       "    <tr>\n",
       "        <th>geodistance</th>\n",
       "    </tr>\n",
       "    <tr>\n",
       "        <td>1948.31948131202</td>\n",
       "    </tr>\n",
       "    <tr>\n",
       "        <td>1948.97544410187</td>\n",
       "    </tr>\n",
       "    <tr>\n",
       "        <td>1946.67835552112</td>\n",
       "    </tr>\n",
       "    <tr>\n",
       "        <td>1948.51401122396</td>\n",
       "    </tr>\n",
       "    <tr>\n",
       "        <td>1948.68370586011</td>\n",
       "    </tr>\n",
       "    <tr>\n",
       "        <td>1951.17402268074</td>\n",
       "    </tr>\n",
       "    <tr>\n",
       "        <td>1940.93606757186</td>\n",
       "    </tr>\n",
       "    <tr>\n",
       "        <td>1950.34910315871</td>\n",
       "    </tr>\n",
       "    <tr>\n",
       "        <td>1944.25406670841</td>\n",
       "    </tr>\n",
       "    <tr>\n",
       "        <td>1947.84095795632</td>\n",
       "    </tr>\n",
       "    <tr>\n",
       "        <td>1949.88686229689</td>\n",
       "    </tr>\n",
       "    <tr>\n",
       "        <td>1949.13953229404</td>\n",
       "    </tr>\n",
       "    <tr>\n",
       "        <td>1939.98582109971</td>\n",
       "    </tr>\n",
       "    <tr>\n",
       "        <td>1940.12847978438</td>\n",
       "    </tr>\n",
       "    <tr>\n",
       "        <td>1943.52025063276</td>\n",
       "    </tr>\n",
       "    <tr>\n",
       "        <td>1944.23569433362</td>\n",
       "    </tr>\n",
       "    <tr>\n",
       "        <td>1948.32183363177</td>\n",
       "    </tr>\n",
       "    <tr>\n",
       "        <td>1951.8429225575</td>\n",
       "    </tr>\n",
       "    <tr>\n",
       "        <td>1947.4566112794</td>\n",
       "    </tr>\n",
       "    <tr>\n",
       "        <td>1947.19214328642</td>\n",
       "    </tr>\n",
       "    <tr>\n",
       "        <td>1942.64651548577</td>\n",
       "    </tr>\n",
       "    <tr>\n",
       "        <td>1937.75207924604</td>\n",
       "    </tr>\n",
       "    <tr>\n",
       "        <td>1937.68844092724</td>\n",
       "    </tr>\n",
       "    <tr>\n",
       "        <td>1942.37915226132</td>\n",
       "    </tr>\n",
       "    <tr>\n",
       "        <td>1949.7616240347</td>\n",
       "    </tr>\n",
       "    <tr>\n",
       "        <td>1950.74004873372</td>\n",
       "    </tr>\n",
       "    <tr>\n",
       "        <td>1945.29514355484</td>\n",
       "    </tr>\n",
       "    <tr>\n",
       "        <td>1946.96082623717</td>\n",
       "    </tr>\n",
       "    <tr>\n",
       "        <td>1950.13022018362</td>\n",
       "    </tr>\n",
       "    <tr>\n",
       "        <td>1949.71870324571</td>\n",
       "    </tr>\n",
       "    <tr>\n",
       "        <td>1944.36103305582</td>\n",
       "    </tr>\n",
       "    <tr>\n",
       "        <td>1945.9516065924</td>\n",
       "    </tr>\n",
       "    <tr>\n",
       "        <td>1938.98432392279</td>\n",
       "    </tr>\n",
       "    <tr>\n",
       "        <td>1940.83580239789</td>\n",
       "    </tr>\n",
       "    <tr>\n",
       "        <td>1950.48334101478</td>\n",
       "    </tr>\n",
       "    <tr>\n",
       "        <td>1950.77835988325</td>\n",
       "    </tr>\n",
       "    <tr>\n",
       "        <td>1948.64727936721</td>\n",
       "    </tr>\n",
       "    <tr>\n",
       "        <td>1937.31135598544</td>\n",
       "    </tr>\n",
       "    <tr>\n",
       "        <td>1948.96888971506</td>\n",
       "    </tr>\n",
       "    <tr>\n",
       "        <td>1948.43328425405</td>\n",
       "    </tr>\n",
       "    <tr>\n",
       "        <td>1946.93487950399</td>\n",
       "    </tr>\n",
       "    <tr>\n",
       "        <td>1947.4046813837</td>\n",
       "    </tr>\n",
       "    <tr>\n",
       "        <td>1945.5093412189</td>\n",
       "    </tr>\n",
       "    <tr>\n",
       "        <td>1311.37677883165</td>\n",
       "    </tr>\n",
       "    <tr>\n",
       "        <td>1217.59510581557</td>\n",
       "    </tr>\n",
       "    <tr>\n",
       "        <td>1335.99848535667</td>\n",
       "    </tr>\n",
       "    <tr>\n",
       "        <td>1205.59625526728</td>\n",
       "    </tr>\n",
       "    <tr>\n",
       "        <td>1334.51120889394</td>\n",
       "    </tr>\n",
       "    <tr>\n",
       "        <td>1354.01874585417</td>\n",
       "    </tr>\n",
       "    <tr>\n",
       "        <td>1324.38983407459</td>\n",
       "    </tr>\n",
       "</table>"
      ],
      "text/plain": [
       "[(1948.31948131202,),\n",
       " (1948.97544410187,),\n",
       " (1946.67835552112,),\n",
       " (1948.51401122396,),\n",
       " (1948.68370586011,),\n",
       " (1951.17402268074,),\n",
       " (1940.93606757186,),\n",
       " (1950.34910315871,),\n",
       " (1944.25406670841,),\n",
       " (1947.84095795632,),\n",
       " (1949.88686229689,),\n",
       " (1949.13953229404,),\n",
       " (1939.98582109971,),\n",
       " (1940.12847978438,),\n",
       " (1943.52025063276,),\n",
       " (1944.23569433362,),\n",
       " (1948.32183363177,),\n",
       " (1951.8429225575,),\n",
       " (1947.4566112794,),\n",
       " (1947.19214328642,),\n",
       " (1942.64651548577,),\n",
       " (1937.75207924604,),\n",
       " (1937.68844092724,),\n",
       " (1942.37915226132,),\n",
       " (1949.7616240347,),\n",
       " (1950.74004873372,),\n",
       " (1945.29514355484,),\n",
       " (1946.96082623717,),\n",
       " (1950.13022018362,),\n",
       " (1949.71870324571,),\n",
       " (1944.36103305582,),\n",
       " (1945.9516065924,),\n",
       " (1938.98432392279,),\n",
       " (1940.83580239789,),\n",
       " (1950.48334101478,),\n",
       " (1950.77835988325,),\n",
       " (1948.64727936721,),\n",
       " (1937.31135598544,),\n",
       " (1948.96888971506,),\n",
       " (1948.43328425405,),\n",
       " (1946.93487950399,),\n",
       " (1947.4046813837,),\n",
       " (1945.5093412189,),\n",
       " (1311.37677883165,),\n",
       " (1217.59510581557,),\n",
       " (1335.99848535667,),\n",
       " (1205.59625526728,),\n",
       " (1334.51120889394,),\n",
       " (1354.01874585417,),\n",
       " (1324.38983407459,)]"
      ]
     },
     "execution_count": 25,
     "metadata": {},
     "output_type": "execute_result"
    }
   ],
   "source": [
    "%sql SELECT geodistance(latitude, longitude,('34.0'),('36.0')) FROM geonames LIMIT 50"
   ]
  },
  {
   "cell_type": "code",
   "execution_count": 27,
   "metadata": {},
   "outputs": [
    {
     "name": "stdout",
     "output_type": "stream",
     "text": [
      "1000 rows affected.\n"
     ]
    },
    {
     "data": {
      "image/png": "[encoded data removed]",
      "text/plain": [
       "<matplotlib.figure.Figure at 0x7f8f8aee3860>"
      ]
     },
     "metadata": {},
     "output_type": "display_data"
    }
   ],
   "source": [
    "import matplotlib.pyplot as plt\n",
    "import pandas as pd\n",
    "result = %sql SELECT longitude, latitude FROM geonames ORDER BY population DESC LIMIT 1000;\n",
    "df = pd.DataFrame(result, columns=['longitude', 'latitude']);\n",
    "df.plot.scatter(x='longitude', y='latitude');"
   ]
  },
  {
   "cell_type": "code",
   "execution_count": 30,
   "metadata": {},
   "outputs": [
    {
     "name": "stdout",
     "output_type": "stream",
     "text": [
      "1 rows affected.\n"
     ]
    },
    {
     "data": {
      "text/html": [
       "<table>\n",
       "    <tr>\n",
       "        <th>count</th>\n",
       "    </tr>\n",
       "    <tr>\n",
       "        <td>401</td>\n",
       "    </tr>\n",
       "</table>"
      ],
      "text/plain": [
       "[(401,)]"
      ]
     },
     "execution_count": 30,
     "metadata": {},
     "output_type": "execute_result"
    }
   ],
   "source": [
    "%sql SELECT count(data) FROM cards WHERE data @> '{\"artist\":\"Rob Alexander\"}';"
   ]
  },
  {
   "cell_type": "code",
   "execution_count": 31,
   "metadata": {},
   "outputs": [
    {
     "name": "stdout",
     "output_type": "stream",
     "text": [
      "10 rows affected.\n"
     ]
    },
    {
     "data": {
      "text/html": [
       "<table>\n",
       "    <tr>\n",
       "        <th>data</th>\n",
       "    </tr>\n",
       "    <tr>\n",
       "        <td>{&#x27;id&#x27;: &#x27;ab1ab474019e4e76c66e2b524d354cb7c3212616&#x27;, &#x27;cmc&#x27;: 7, &#x27;name&#x27;: &quot;Ancestor&#x27;s Chosen&quot;, &#x27;text&#x27;: &quot;First strike (This creature deals combat damage before creatures without first strike.)\\nWhen Ancestor&#x27;s Chosen enters the battlefield, you gain 1 life for each card in your graveyard.&quot;, &#x27;type&#x27;: &#x27;Creature — Human Cleric&#x27;, &#x27;power&#x27;: &#x27;4&#x27;, &#x27;types&#x27;: [&#x27;Creature&#x27;], &#x27;artist&#x27;: &#x27;Pete Venters&#x27;, &#x27;colors&#x27;: [&#x27;White&#x27;], &#x27;flavor&#x27;: &#x27;&quot;The will of all, by my hand done.&quot;&#x27;, &#x27;layout&#x27;: &#x27;normal&#x27;, &#x27;number&#x27;: &#x27;1&#x27;, &#x27;rarity&#x27;: &#x27;Uncommon&#x27;, &#x27;manaCost&#x27;: &#x27;{5}{W}{W}&#x27;, &#x27;subtypes&#x27;: [&#x27;Human&#x27;, &#x27;Cleric&#x27;], &#x27;imageName&#x27;: &quot;ancestor&#x27;s chosen&quot;, &#x27;mciNumber&#x27;: &#x27;1&#x27;, &#x27;toughness&#x27;: &#x27;4&#x27;, &#x27;multiverseid&#x27;: 130550, &#x27;colorIdentity&#x27;: [&#x27;W&#x27;]}</td>\n",
       "    </tr>\n",
       "    <tr>\n",
       "        <td>{&#x27;id&#x27;: &#x27;d3488c0a916bd922856473155a8b49ec23fc2217&#x27;, &#x27;cmc&#x27;: 4, &#x27;name&#x27;: &#x27;Ballista Squad&#x27;, &#x27;text&#x27;: &#x27;{X}{W}, {T}: Ballista Squad deals X damage to target attacking or blocking creature.&#x27;, &#x27;type&#x27;: &#x27;Creature — Human Rebel&#x27;, &#x27;power&#x27;: &#x27;2&#x27;, &#x27;types&#x27;: [&#x27;Creature&#x27;], &#x27;artist&#x27;: &#x27;Matthew D. Wilson&#x27;, &#x27;colors&#x27;: [&#x27;White&#x27;], &#x27;flavor&#x27;: &#x27;The perfect antidote for a tightly packed formation.&#x27;, &#x27;layout&#x27;: &#x27;normal&#x27;, &#x27;number&#x27;: &#x27;8&#x27;, &#x27;rarity&#x27;: &#x27;Uncommon&#x27;, &#x27;manaCost&#x27;: &#x27;{3}{W}&#x27;, &#x27;subtypes&#x27;: [&#x27;Human&#x27;, &#x27;Rebel&#x27;], &#x27;imageName&#x27;: &#x27;ballista squad&#x27;, &#x27;mciNumber&#x27;: &#x27;8&#x27;, &#x27;toughness&#x27;: &#x27;2&#x27;, &#x27;multiverseid&#x27;: 129477, &#x27;colorIdentity&#x27;: [&#x27;W&#x27;]}</td>\n",
       "    </tr>\n",
       "    <tr>\n",
       "        <td>{&#x27;id&#x27;: &#x27;29c46fca29e5de01dba3bbf05393325bc9132735&#x27;, &#x27;cmc&#x27;: 3, &#x27;name&#x27;: &#x27;Benalish Knight&#x27;, &#x27;text&#x27;: &#x27;Flash (You may cast this spell any time you could cast an instant.)\\nFirst strike (This creature deals combat damage before creatures without first strike.)&#x27;, &#x27;type&#x27;: &#x27;Creature — Human Knight&#x27;, &#x27;power&#x27;: &#x27;2&#x27;, &#x27;types&#x27;: [&#x27;Creature&#x27;], &#x27;artist&#x27;: &#x27;Zoltan Boros &amp; Gabor Szikszai&#x27;, &#x27;colors&#x27;: [&#x27;White&#x27;], &#x27;flavor&#x27;: &#x27;&quot;We called them \\&#x27;armored lightning.\\&#x27;&quot;\\n—Gerrard of the Weatherlight&#x27;, &#x27;layout&#x27;: &#x27;normal&#x27;, &#x27;number&#x27;: &#x27;11&#x27;, &#x27;rarity&#x27;: &#x27;Common&#x27;, &#x27;manaCost&#x27;: &#x27;{2}{W}&#x27;, &#x27;subtypes&#x27;: [&#x27;Human&#x27;, &#x27;Knight&#x27;], &#x27;imageName&#x27;: &#x27;benalish knight&#x27;, &#x27;mciNumber&#x27;: &#x27;11&#x27;, &#x27;toughness&#x27;: &#x27;2&#x27;, &#x27;multiverseid&#x27;: 136279, &#x27;colorIdentity&#x27;: [&#x27;W&#x27;]}</td>\n",
       "    </tr>\n",
       "    <tr>\n",
       "        <td>{&#x27;id&#x27;: &#x27;e8b8dea65daf4e9070cce5de62bdbea0bf36d47c&#x27;, &#x27;cmc&#x27;: 4, &#x27;name&#x27;: &#x27;Cho-Manno, Revolutionary&#x27;, &#x27;text&#x27;: &#x27;Prevent all damage that would be dealt to Cho-Manno, Revolutionary.&#x27;, &#x27;type&#x27;: &#x27;Legendary Creature — Human Rebel&#x27;, &#x27;power&#x27;: &#x27;2&#x27;, &#x27;types&#x27;: [&#x27;Creature&#x27;], &#x27;artist&#x27;: &#x27;Steven Belledin&#x27;, &#x27;colors&#x27;: [&#x27;White&#x27;], &#x27;flavor&#x27;: &#x27;&quot;Mercadia\\&#x27;s masks can no longer hide the truth. Our day has come at last.&quot;&#x27;, &#x27;layout&#x27;: &#x27;normal&#x27;, &#x27;number&#x27;: &#x27;12&#x27;, &#x27;rarity&#x27;: &#x27;Rare&#x27;, &#x27;manaCost&#x27;: &#x27;{2}{W}{W}&#x27;, &#x27;subtypes&#x27;: [&#x27;Human&#x27;, &#x27;Rebel&#x27;], &#x27;imageName&#x27;: &#x27;cho-manno, revolutionary&#x27;, &#x27;mciNumber&#x27;: &#x27;12&#x27;, &#x27;toughness&#x27;: &#x27;2&#x27;, &#x27;supertypes&#x27;: [&#x27;Legendary&#x27;], &#x27;multiverseid&#x27;: 130554, &#x27;colorIdentity&#x27;: [&#x27;W&#x27;]}</td>\n",
       "    </tr>\n",
       "    <tr>\n",
       "        <td>{&#x27;id&#x27;: &#x27;80a6b907fc380ed97615e8abc0fe6071c4ceef67&#x27;, &#x27;cmc&#x27;: 3, &#x27;name&#x27;: &#x27;Field Marshal&#x27;, &#x27;text&#x27;: &#x27;Other Soldier creatures get +1/+1 and have first strike. (They deal combat damage before creatures without first strike.)&#x27;, &#x27;type&#x27;: &#x27;Creature — Human Soldier&#x27;, &#x27;power&#x27;: &#x27;2&#x27;, &#x27;types&#x27;: [&#x27;Creature&#x27;], &#x27;artist&#x27;: &#x27;Stephen Tappin&#x27;, &#x27;colors&#x27;: [&#x27;White&#x27;], &#x27;flavor&#x27;: &#x27;He is the only one who sees the patterns in the overlapping maps and conflicting reports.&#x27;, &#x27;layout&#x27;: &#x27;normal&#x27;, &#x27;number&#x27;: &#x27;15&#x27;, &#x27;rarity&#x27;: &#x27;Rare&#x27;, &#x27;manaCost&#x27;: &#x27;{1}{W}{W}&#x27;, &#x27;subtypes&#x27;: [&#x27;Human&#x27;, &#x27;Soldier&#x27;], &#x27;imageName&#x27;: &#x27;field marshal&#x27;, &#x27;mciNumber&#x27;: &#x27;15&#x27;, &#x27;toughness&#x27;: &#x27;2&#x27;, &#x27;multiverseid&#x27;: 135258, &#x27;colorIdentity&#x27;: [&#x27;W&#x27;]}</td>\n",
       "    </tr>\n",
       "    <tr>\n",
       "        <td>{&#x27;id&#x27;: &#x27;7879b835a2c3d6516515d03bd3a3894dceee1812&#x27;, &#x27;cmc&#x27;: 1, &#x27;name&#x27;: &#x27;Honor Guard&#x27;, &#x27;text&#x27;: &#x27;{W}: Honor Guard gets +0/+1 until end of turn.&#x27;, &#x27;type&#x27;: &#x27;Creature — Human Soldier&#x27;, &#x27;power&#x27;: &#x27;1&#x27;, &#x27;types&#x27;: [&#x27;Creature&#x27;], &#x27;artist&#x27;: &#x27;Dan Dos Santos&#x27;, &#x27;colors&#x27;: [&#x27;White&#x27;], &#x27;flavor&#x27;: &#x27;The strength of one. The courage of ten.&#x27;, &#x27;layout&#x27;: &#x27;normal&#x27;, &#x27;number&#x27;: &#x27;23&#x27;, &#x27;rarity&#x27;: &#x27;Common&#x27;, &#x27;manaCost&#x27;: &#x27;{W}&#x27;, &#x27;subtypes&#x27;: [&#x27;Human&#x27;, &#x27;Soldier&#x27;], &#x27;imageName&#x27;: &#x27;honor guard&#x27;, &#x27;mciNumber&#x27;: &#x27;23&#x27;, &#x27;toughness&#x27;: &#x27;1&#x27;, &#x27;multiverseid&#x27;: 129595, &#x27;colorIdentity&#x27;: [&#x27;W&#x27;]}</td>\n",
       "    </tr>\n",
       "    <tr>\n",
       "        <td>{&#x27;id&#x27;: &#x27;55932565b6905650e67e784b7cf0df63990e9851&#x27;, &#x27;cmc&#x27;: 1, &#x27;name&#x27;: &#x27;Icatian Priest&#x27;, &#x27;text&#x27;: &#x27;{1}{W}{W}: Target creature gets +1/+1 until end of turn.&#x27;, &#x27;type&#x27;: &#x27;Creature — Human Cleric&#x27;, &#x27;power&#x27;: &#x27;1&#x27;, &#x27;types&#x27;: [&#x27;Creature&#x27;], &#x27;artist&#x27;: &#x27;Stephen Tappin&#x27;, &#x27;colors&#x27;: [&#x27;White&#x27;], &#x27;flavor&#x27;: &quot;Grelden knelt and felt the cool, dry hand of the priest on his brow. Hours later, when his wits returned, he was covered in his enemies&#x27; blood on the field of victory.&quot;, &#x27;layout&#x27;: &#x27;normal&#x27;, &#x27;number&#x27;: &#x27;24&#x27;, &#x27;rarity&#x27;: &#x27;Uncommon&#x27;, &#x27;manaCost&#x27;: &#x27;{W}&#x27;, &#x27;subtypes&#x27;: [&#x27;Human&#x27;, &#x27;Cleric&#x27;], &#x27;imageName&#x27;: &#x27;icatian priest&#x27;, &#x27;mciNumber&#x27;: &#x27;24&#x27;, &#x27;toughness&#x27;: &#x27;1&#x27;, &#x27;multiverseid&#x27;: 132123, &#x27;colorIdentity&#x27;: [&#x27;W&#x27;]}</td>\n",
       "    </tr>\n",
       "    <tr>\n",
       "        <td>{&#x27;id&#x27;: &#x27;bc1e197c295bc12cc1b392a11b94782f1396b263&#x27;, &#x27;cmc&#x27;: 5, &#x27;name&#x27;: &#x27;Kjeldoran Royal Guard&#x27;, &#x27;text&#x27;: &#x27;{T}: All combat damage that would be dealt to you by unblocked creatures this turn is dealt to Kjeldoran Royal Guard instead.&#x27;, &#x27;type&#x27;: &#x27;Creature — Human Soldier&#x27;, &#x27;power&#x27;: &#x27;2&#x27;, &#x27;types&#x27;: [&#x27;Creature&#x27;], &#x27;artist&#x27;: &#x27;Carl Critchlow&#x27;, &#x27;colors&#x27;: [&#x27;White&#x27;], &#x27;flavor&#x27;: &quot;Upon the frozen tundra stand the Kjeldoran Royal Guard, pikes raised, with the king&#x27;s oath upon their lips.&quot;, &#x27;layout&#x27;: &#x27;normal&#x27;, &#x27;number&#x27;: &#x27;25&#x27;, &#x27;rarity&#x27;: &#x27;Rare&#x27;, &#x27;manaCost&#x27;: &#x27;{3}{W}{W}&#x27;, &#x27;subtypes&#x27;: [&#x27;Human&#x27;, &#x27;Soldier&#x27;], &#x27;imageName&#x27;: &#x27;kjeldoran royal guard&#x27;, &#x27;mciNumber&#x27;: &#x27;25&#x27;, &#x27;toughness&#x27;: &#x27;5&#x27;, &#x27;multiverseid&#x27;: 130551, &#x27;colorIdentity&#x27;: [&#x27;W&#x27;]}</td>\n",
       "    </tr>\n",
       "    <tr>\n",
       "        <td>{&#x27;id&#x27;: &#x27;e25120395df829af067675f1582ae946543094e2&#x27;, &#x27;cmc&#x27;: 1, &#x27;name&#x27;: &#x27;Loyal Sentry&#x27;, &#x27;text&#x27;: &#x27;When Loyal Sentry blocks a creature, destroy that creature and Loyal Sentry.&#x27;, &#x27;type&#x27;: &#x27;Creature — Human Soldier&#x27;, &#x27;power&#x27;: &#x27;1&#x27;, &#x27;types&#x27;: [&#x27;Creature&#x27;], &#x27;artist&#x27;: &#x27;Michael Sutfin&#x27;, &#x27;colors&#x27;: [&#x27;White&#x27;], &#x27;flavor&#x27;: &#x27;&quot;My cause is simple: To stop you, at any cost, from ever seeing the inside of this keep.&quot;&#x27;, &#x27;layout&#x27;: &#x27;normal&#x27;, &#x27;number&#x27;: &#x27;27&#x27;, &#x27;rarity&#x27;: &#x27;Rare&#x27;, &#x27;manaCost&#x27;: &#x27;{W}&#x27;, &#x27;subtypes&#x27;: [&#x27;Human&#x27;, &#x27;Soldier&#x27;], &#x27;imageName&#x27;: &#x27;loyal sentry&#x27;, &#x27;mciNumber&#x27;: &#x27;27&#x27;, &#x27;toughness&#x27;: &#x27;1&#x27;, &#x27;multiverseid&#x27;: 129798, &#x27;colorIdentity&#x27;: [&#x27;W&#x27;]}</td>\n",
       "    </tr>\n",
       "    <tr>\n",
       "        <td>{&#x27;id&#x27;: &#x27;f0bd8f9ffd23760499a421ca4cd2f211130542b8&#x27;, &#x27;cmc&#x27;: 3, &#x27;name&#x27;: &#x27;Nomad Mythmaker&#x27;, &#x27;text&#x27;: &#x27;{W}, {T}: Put target Aura card from a graveyard onto the battlefield under your control attached to a creature you control.&#x27;, &#x27;type&#x27;: &#x27;Creature — Human Nomad Cleric&#x27;, &#x27;power&#x27;: &#x27;2&#x27;, &#x27;types&#x27;: [&#x27;Creature&#x27;], &#x27;artist&#x27;: &#x27;Darrell Riche&#x27;, &#x27;colors&#x27;: [&#x27;White&#x27;], &#x27;flavor&#x27;: &#x27;On the wild steppes, history vanishes in the dust. Only the mythmakers remain to say what was, and is, and will be.&#x27;, &#x27;layout&#x27;: &#x27;normal&#x27;, &#x27;number&#x27;: &#x27;30&#x27;, &#x27;rarity&#x27;: &#x27;Rare&#x27;, &#x27;manaCost&#x27;: &#x27;{2}{W}&#x27;, &#x27;subtypes&#x27;: [&#x27;Human&#x27;, &#x27;Nomad&#x27;, &#x27;Cleric&#x27;], &#x27;imageName&#x27;: &#x27;nomad mythmaker&#x27;, &#x27;mciNumber&#x27;: &#x27;30&#x27;, &#x27;toughness&#x27;: &#x27;2&#x27;, &#x27;multiverseid&#x27;: 130547, &#x27;colorIdentity&#x27;: [&#x27;W&#x27;]}</td>\n",
       "    </tr>\n",
       "</table>"
      ],
      "text/plain": [
       "[({'id': 'ab1ab474019e4e76c66e2b524d354cb7c3212616', 'cmc': 7, 'name': \"Ancestor's Chosen\", 'text': \"First strike (This creature deals combat damage bef ... (386 characters truncated) ... 'subtypes': ['Human', 'Cleric'], 'imageName': \"ancestor's chosen\", 'mciNumber': '1', 'toughness': '4', 'multiverseid': 130550, 'colorIdentity': ['W']},),\n",
       " ({'id': 'd3488c0a916bd922856473155a8b49ec23fc2217', 'cmc': 4, 'name': 'Ballista Squad', 'text': '{X}{W}, {T}: Ballista Squad deals X damage to target a ... (297 characters truncated) ... }', 'subtypes': ['Human', 'Rebel'], 'imageName': 'ballista squad', 'mciNumber': '8', 'toughness': '2', 'multiverseid': 129477, 'colorIdentity': ['W']},),\n",
       " ({'id': '29c46fca29e5de01dba3bbf05393325bc9132735', 'cmc': 3, 'name': 'Benalish Knight', 'text': 'Flash (You may cast this spell any time you could cas ... (402 characters truncated) ...  'subtypes': ['Human', 'Knight'], 'imageName': 'benalish knight', 'mciNumber': '11', 'toughness': '2', 'multiverseid': 136279, 'colorIdentity': ['W']},),\n",
       " ({'id': 'e8b8dea65daf4e9070cce5de62bdbea0bf36d47c', 'cmc': 4, 'name': 'Cho-Manno, Revolutionary', 'text': 'Prevent all damage that would be dealt to Ch ... (361 characters truncated) ... geName': 'cho-manno, revolutionary', 'mciNumber': '12', 'toughness': '2', 'supertypes': ['Legendary'], 'multiverseid': 130554, 'colorIdentity': ['W']},),\n",
       " ({'id': '80a6b907fc380ed97615e8abc0fe6071c4ceef67', 'cmc': 3, 'name': 'Field Marshal', 'text': 'Other Soldier creatures get +1/+1 and have first strike ... (371 characters truncated) ... , 'subtypes': ['Human', 'Soldier'], 'imageName': 'field marshal', 'mciNumber': '15', 'toughness': '2', 'multiverseid': 135258, 'colorIdentity': ['W']},),\n",
       " ({'id': '7879b835a2c3d6516515d03bd3a3894dceee1812', 'cmc': 1, 'name': 'Honor Guard', 'text': '{W}: Honor Guard gets +0/+1 until end of turn.', 'type':  ... (239 characters truncated) ... }', 'subtypes': ['Human', 'Soldier'], 'imageName': 'honor guard', 'mciNumber': '23', 'toughness': '1', 'multiverseid': 129595, 'colorIdentity': ['W']},),\n",
       " ({'id': '55932565b6905650e67e784b7cf0df63990e9851', 'cmc': 1, 'name': 'Icatian Priest', 'text': '{1}{W}{W}: Target creature gets +1/+1 until end of tur ... (382 characters truncated) ... , 'subtypes': ['Human', 'Cleric'], 'imageName': 'icatian priest', 'mciNumber': '24', 'toughness': '1', 'multiverseid': 132123, 'colorIdentity': ['W']},),\n",
       " ({'id': 'bc1e197c295bc12cc1b392a11b94782f1396b263', 'cmc': 5, 'name': 'Kjeldoran Royal Guard', 'text': '{T}: All combat damage that would be dealt to y ... (409 characters truncated) ... pes': ['Human', 'Soldier'], 'imageName': 'kjeldoran royal guard', 'mciNumber': '25', 'toughness': '5', 'multiverseid': 130551, 'colorIdentity': ['W']},),\n",
       " ({'id': 'e25120395df829af067675f1582ae946543094e2', 'cmc': 1, 'name': 'Loyal Sentry', 'text': 'When Loyal Sentry blocks a creature, destroy that creatu ... (318 characters truncated) ... ', 'subtypes': ['Human', 'Soldier'], 'imageName': 'loyal sentry', 'mciNumber': '27', 'toughness': '1', 'multiverseid': 129798, 'colorIdentity': ['W']},),\n",
       " ({'id': 'f0bd8f9ffd23760499a421ca4cd2f211130542b8', 'cmc': 3, 'name': 'Nomad Mythmaker', 'text': '{W}, {T}: Put target Aura card from a graveyard onto  ... (412 characters truncated) ... s': ['Human', 'Nomad', 'Cleric'], 'imageName': 'nomad mythmaker', 'mciNumber': '30', 'toughness': '2', 'multiverseid': 130547, 'colorIdentity': ['W']},)]"
      ]
     },
     "execution_count": 31,
     "metadata": {},
     "output_type": "execute_result"
    }
   ],
   "source": [
    "%sql SELECT count(data FROM cards WHERE data -> 'subtypes' ? 'Human' LIMIT 10"
   ]
  },
  {
   "cell_type": "code",
   "execution_count": null,
   "metadata": {},
   "outputs": [],
   "source": []
  }
 ],
 "metadata": {
  "kernelspec": {
   "display_name": "Python 3",
   "language": "python",
   "name": "python3"
  },
  "language_info": {
   "codemirror_mode": {
    "name": "ipython",
    "version": 3
   },
   "file_extension": ".py",
   "mimetype": "text/x-python",
   "name": "python",
   "nbconvert_exporter": "python",
   "pygments_lexer": "ipython3",
   "version": "3.6.3"
  }
 },
 "nbformat": 4,
 "nbformat_minor": 2
}
